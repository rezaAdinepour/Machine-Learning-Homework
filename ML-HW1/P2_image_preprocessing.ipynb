{
 "cells": [
  {
   "cell_type": "markdown",
   "metadata": {},
   "source": [
    "# [Machine Learning](https://github.com/rezaAdinepour/Machine-Learning-Homework/tree/main) - Spring 2024\n",
    "#### [Reza Adinepour](https://github.com/rezaAdinepour)"
   ]
  },
  {
   "cell_type": "markdown",
   "metadata": {},
   "source": [
    "# Problem 2: Image Preprocessing\n",
    "\n",
    "In this section, we want to focus on some of the fundamentals of image preprocessing. Image\n",
    "processing is not as easy as it may seem, and numerous techniques may be performed on an\n",
    "image before being used as data in a machine learning model. Follow the steps below to\n",
    "perform some basic processing on the photos.\n",
    "\n",
    "* Load the images int the `Dataset_02` directory using the `opencv` library.\n",
    "* Select 3 random images and display them on the screen. Explain the three dimensions in the shape of the images.\n",
    "* What are the pros and cons of using color images compared to grayscale images? Apply grayscale conversion to the images if needed.\n",
    "* What are the effects of image brightness and contrast on the visual quality and image interpretation? Why would you consider adjusting these parameters as a preprocessing step? Adjust the brightness and contrast of the images using proper approach(es).\n",
    "* What is image normalization? What challenges may arise if images are not normalized? properly normalize the loaded images."
   ]
  },
  {
   "cell_type": "markdown",
   "metadata": {},
   "source": [
    "## import libraries"
   ]
  },
  {
   "cell_type": "code",
   "execution_count": 1,
   "metadata": {},
   "outputs": [],
   "source": [
    "import cv2\n",
    "import numpy as np\n",
    "import os"
   ]
  },
  {
   "cell_type": "code",
   "execution_count": 6,
   "metadata": {},
   "outputs": [
    {
     "name": "stdout",
     "output_type": "stream",
     "text": [
      "total images:  35\n"
     ]
    }
   ],
   "source": [
    "dir = 'Dataset_02/'\n",
    "images = [cv2.imread(os.path.join(dir, img), 0) for img in os.listdir(dir) if img.endswith(\".png\")]\n",
    "print(\"total images: \", len(images))"
   ]
  }
 ],
 "metadata": {
  "kernelspec": {
   "display_name": "Python 3",
   "language": "python",
   "name": "python3"
  },
  "language_info": {
   "codemirror_mode": {
    "name": "ipython",
    "version": 3
   },
   "file_extension": ".py",
   "mimetype": "text/x-python",
   "name": "python",
   "nbconvert_exporter": "python",
   "pygments_lexer": "ipython3",
   "version": "3.11.6"
  }
 },
 "nbformat": 4,
 "nbformat_minor": 2
}
