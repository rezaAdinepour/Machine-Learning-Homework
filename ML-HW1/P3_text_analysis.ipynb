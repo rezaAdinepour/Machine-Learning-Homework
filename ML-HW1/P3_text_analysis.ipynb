{
 "cells": [
  {
   "cell_type": "markdown",
   "metadata": {},
   "source": [
    "# [Machine Learning](https://github.com/rezaAdinepour/Machine-Learning-Homework/) - Spring 2024\n",
    "#### [Reza Adinepour](https://github.com/rezaAdinepour)"
   ]
  },
  {
   "cell_type": "markdown",
   "metadata": {},
   "source": [
    "# Problem 3: Text Analysis\n",
    "\n",
    "In this section of the assignemnt, we are going to see the preprocessing steps taken to process text. Hamshahri newspaper is a great dataset to work on.\n",
    "\n",
    "* Explore and experiment with the dataset. Get the dataset using the [this link](https://drive.google.com/file/d/1D3yt99D0GcCRCbdKbUQGxbqjkeh91hTg/view)\n",
    "* Read the data from the \"HamshahriCorpus.txt\"file and convert the data into a tabular format.\n",
    "* Visualize the data using different plots. What can be understood from each plot?\n",
    "* What preprocessing steps would you take to clean this dataset? Apply necessary preprocessing steps.\n",
    "* Extract useful information from the text using methods such as Term Frequency Inverse Document Frequency (TF-IDF).\n",
    "* Find five of the most important and frequently used words in Hamshahri Corpus."
   ]
  },
  {
   "cell_type": "markdown",
   "metadata": {},
   "source": [
    "## import libraries\n",
    "### install gdown like this: `pip install gdown`"
   ]
  },
  {
   "cell_type": "code",
   "execution_count": 2,
   "metadata": {},
   "outputs": [],
   "source": [
    "import gdown"
   ]
  },
  {
   "cell_type": "code",
   "execution_count": 3,
   "metadata": {},
   "outputs": [
    {
     "name": "stderr",
     "output_type": "stream",
     "text": [
      "Downloading...\n",
      "From (original): https://drive.google.com/uc?id=1D3yt99D0GcCRCbdKbUQGxbqjkeh91hTg\n",
      "From (redirected): https://drive.google.com/uc?id=1D3yt99D0GcCRCbdKbUQGxbqjkeh91hTg&confirm=t&uuid=3054af71-2a9f-4901-8360-c43a4564bc84\n",
      "To: /mnt/9636D17436D15639/University/CE/Machine Learning/Dr Nazerfard/Spring 2024/Machine-Learning-Homework/ML-HW1/hamshahri.rar\n",
      "100%|██████████| 873M/873M [14:30<00:00, 1.00MB/s] \n"
     ]
    },
    {
     "data": {
      "text/plain": [
       "'hamshahri.rar'"
      ]
     },
     "execution_count": 3,
     "metadata": {},
     "output_type": "execute_result"
    }
   ],
   "source": [
    "url = \"https://drive.google.com/uc?id=1D3yt99D0GcCRCbdKbUQGxbqjkeh91hTg\"\n",
    "output = \"hamshahri.rar\"\n",
    "gdown.download(url, output, quiet=False)"
   ]
  },
  {
   "cell_type": "markdown",
   "metadata": {},
   "source": [
    "## Extract dataset file\n",
    "### `pip install rarfile patool`"
   ]
  },
  {
   "cell_type": "code",
   "execution_count": 5,
   "metadata": {},
   "outputs": [],
   "source": [
    "import rarfile\n",
    "\n",
    "with rarfile.RarFile('hamshahri.rar') as rf:\n",
    "    rf.extractall()"
   ]
  },
  {
   "cell_type": "code",
   "execution_count": null,
   "metadata": {},
   "outputs": [],
   "source": []
  }
 ],
 "metadata": {
  "kernelspec": {
   "display_name": "Python 3",
   "language": "python",
   "name": "python3"
  },
  "language_info": {
   "codemirror_mode": {
    "name": "ipython",
    "version": 3
   },
   "file_extension": ".py",
   "mimetype": "text/x-python",
   "name": "python",
   "nbconvert_exporter": "python",
   "pygments_lexer": "ipython3",
   "version": "3.11.6"
  }
 },
 "nbformat": 4,
 "nbformat_minor": 2
}
